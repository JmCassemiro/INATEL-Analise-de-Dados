{
 "cells": [
  {
   "cell_type": "code",
   "execution_count": null,
   "id": "5459496a",
   "metadata": {},
   "outputs": [
    {
     "name": "stdout",
     "output_type": "stream",
     "text": [
      "['João', 'Maria']\n",
      "3\n",
      "['José', 'João', 'Maria']\n"
     ]
    }
   ],
   "source": [
    "# Tuplas\n",
    "nomes = ('João', 'Maria', 'José')\n",
    "print(nomes[0:2])  # Imprime os dois primeiros nomes\n",
    "print(len(nomes))  # Imprime o tamanho da tupla\n",
    "print(sorted(nomes))  # Imprime a tupla ordenada\n"
   ]
  },
  {
   "cell_type": "code",
   "execution_count": null,
   "id": "d4b354fc",
   "metadata": {},
   "outputs": [
    {
     "name": "stdout",
     "output_type": "stream",
     "text": [
      "['Bulma', 'Frieza', 'Goku', 'Piccolo', 'Vegeta']\n"
     ]
    }
   ],
   "source": [
    "# Listas\n",
    "nomes = ['Goku', 'Vegeta', 'Gohan', 'Piccolo']\n",
    "nomes.append('Frieza')\n",
    "nomes.insert(1, 'Bulma')  # Insere 'Bulma' na posição 2\n",
    "nomes.remove('Gohan')  # Remove 'Gohan' da lista\n",
    "\n",
    "print(sorted(nomes))  # Imprime a lista ordenada"
   ]
  },
  {
   "cell_type": "code",
   "execution_count": 8,
   "id": "17a8ac94",
   "metadata": {},
   "outputs": [
    {
     "name": "stdout",
     "output_type": "stream",
     "text": [
      "['Frieza', 'Goku', 'Piccolo', 'Vegeta']\n"
     ]
    }
   ],
   "source": [
    "# Conjunto\n",
    "nomes = {'Goku', 'Vegeta', 'Gohan', 'Piccolo', 'Goku'}\n",
    "nomes.add('Frieza')  # Adiciona 'Frieza' ao conjunto\n",
    "nomes.remove('Gohan')  # Remove 'Gohan' do conjunto\n",
    "\n",
    "\n",
    "print(sorted(nomes))  # Imprime o conjunto ordenado"
   ]
  },
  {
   "cell_type": "code",
   "execution_count": 14,
   "id": "fe38418b",
   "metadata": {},
   "outputs": [
    {
     "name": "stdout",
     "output_type": "stream",
     "text": [
      "['Goku', 'Vegeta', 'Gohan', 'Piccolo']\n",
      "[30, 35, 28, 32]\n",
      "Dragon Ball\n",
      "Masculino\n",
      "Pedro Vilas\n",
      "24\n",
      "Bulma\n"
     ]
    }
   ],
   "source": [
    "# Dicionário\n",
    "dados = {\n",
    "    'nomes': ['Goku', 'Vegeta', 'Gohan', 'Piccolo'],\n",
    "    'idades': [30, 35, 28, 32],\n",
    "    'universo': 'Dragon Ball'\n",
    "}\n",
    "dados['sexo'] = 'Masculino'  # Adiciona uma nova chave 'sexo'\n",
    "print(dados['nomes'])  # Imprime a lista de nomes\n",
    "print(dados['idades'])  # Imprime a lista de idades\n",
    "print(dados['universo'])  # Imprime o universo\n",
    "print(dados['sexo'])  # Imprime o sexo\n",
    "\n",
    "dados1 = {'nomes':'Pedro Vilas', 'idades': 25, 'Ex':'Vagabunda', 'Sexo':'Gay'}\n",
    "dados2 = {'nomes':'Tonin', 'idades': 24, 'Ex':'Esquisita', 'Sexo':'Viado', 'Elo':'Platina'}\n",
    "dados3 = {'nomes':'Goku', 'idades': 30, 'Ex':'Bulma', 'Sexo':'Masculino', 'Elo':'Super Saiyajin'}\n",
    "\n",
    "canalhas = [dados1, dados2, dados3]\n",
    "print(canalhas[0]['nomes'])  # Imprime o nome do primeiro dicionário\n",
    "print(canalhas[1]['idades'])  # Imprime a idade do segundo dicionário\n",
    "print(canalhas[2]['Ex'])  # Imprime o ex do terceiro dicionário\n"
   ]
  }
 ],
 "metadata": {
  "kernelspec": {
   "display_name": ".venv",
   "language": "python",
   "name": "python3"
  },
  "language_info": {
   "codemirror_mode": {
    "name": "ipython",
    "version": 3
   },
   "file_extension": ".py",
   "mimetype": "text/x-python",
   "name": "python",
   "nbconvert_exporter": "python",
   "pygments_lexer": "ipython3",
   "version": "3.12.2"
  }
 },
 "nbformat": 4,
 "nbformat_minor": 5
}
